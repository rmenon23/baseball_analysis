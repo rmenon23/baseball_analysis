{
 "cells": [
  {
   "cell_type": "markdown",
   "metadata": {},
   "source": [
    "# Data Analysis Project - Baseball Metrics"
   ]
  },
  {
   "cell_type": "markdown",
   "metadata": {},
   "source": [
    "This analysis seeks to find a relationship, if any, between baseball player statistics to their salary. In the end, this analysis will attempt to determine a formula to predict salaries of baseball players. The questions this analysis seeks to analyze are: \n",
    "* What does the MLB salary growth look like in nominal dollars?\n",
    "* How do salaries of All Stars compare to those who are not All Stars for the 2015 season?\n",
    "* Are there more All Stars who attended college?"
   ]
  },
  {
   "cell_type": "code",
   "execution_count": 348,
   "metadata": {
    "collapsed": false
   },
   "outputs": [
    {
     "data": {
      "text/html": [
       "<script>\n",
       "code_show=true; \n",
       "function code_toggle() {\n",
       " if (code_show){\n",
       " $('div.input').hide();\n",
       " } else {\n",
       " $('div.input').show();\n",
       " }\n",
       " code_show = !code_show\n",
       "} \n",
       "$( document ).ready(code_toggle);\n",
       "</script>\n",
       "<form action=\"javascript:code_toggle()\"><input type=\"submit\" value=\"Click here to toggle on/off the raw code.\"></form>"
      ],
      "text/plain": [
       "<IPython.core.display.HTML object>"
      ]
     },
     "execution_count": 348,
     "metadata": {},
     "output_type": "execute_result"
    }
   ],
   "source": [
    "#import all relevant packages for this analysis\n",
    "import numpy as np\n",
    "import pandas as pd\n",
    "import seaborn as sns\n",
    "import matplotlib.pyplot as plt\n",
    "from __future__ import division\n",
    "\n",
    "from IPython.display import HTML\n",
    "\n",
    "#This is done to hide the Python code\n",
    "HTML('''<script>\n",
    "code_show=true; \n",
    "function code_toggle() {\n",
    " if (code_show){\n",
    " $('div.input').hide();\n",
    " } else {\n",
    " $('div.input').show();\n",
    " }\n",
    " code_show = !code_show\n",
    "} \n",
    "$( document ).ready(code_toggle);\n",
    "</script>\n",
    "<form action=\"javascript:code_toggle()\"><input type=\"submit\" value=\"Click here to toggle on/off the raw code.\"></form>''')"
   ]
  },
  {
   "cell_type": "code",
   "execution_count": 349,
   "metadata": {
    "collapsed": false
   },
   "outputs": [],
   "source": [
    "#import the salaries csv and fielding csv datasets\n",
    "\n",
    "players = pd.read_csv(\"Master.csv\")\n",
    "salaries = pd.read_csv(\"Salaries.csv\")\n",
    "batting_stats = pd.read_csv(\"Batting.csv\")\n",
    "all_stars = pd.read_csv(\"AllstarFull.csv\")\n",
    "college = pd.read_csv(\"CollegePlaying.csv\")"
   ]
  },
  {
   "cell_type": "markdown",
   "metadata": {},
   "source": [
    "## Cleaning Up the Datasets"
   ]
  },
  {
   "cell_type": "markdown",
   "metadata": {},
   "source": [
    "There are two salaries of \"0\" within the salaries table. These were removed from the dataset becasue it does not make sense for a player to have a salary of $0."
   ]
  },
  {
   "cell_type": "code",
   "execution_count": 350,
   "metadata": {
    "collapsed": false
   },
   "outputs": [
    {
     "data": {
      "text/plain": [
       "count    2.557300e+04\n",
       "mean     2.008720e+06\n",
       "std      3.315788e+06\n",
       "min      1.090000e+04\n",
       "25%      2.750000e+05\n",
       "50%      5.500000e+05\n",
       "75%      2.250000e+06\n",
       "max      3.300000e+07\n",
       "Name: salary, dtype: float64"
      ]
     },
     "execution_count": 350,
     "metadata": {},
     "output_type": "execute_result"
    }
   ],
   "source": [
    "#remove salaries that are 0. These do not make sense.\n",
    "salaries_cleaned = salaries[salaries[\"salary\"] != 0]\n",
    "\n",
    "#print out descriptive stats\n",
    "salaries_cleaned[\"salary\"].describe()"
   ]
  },
  {
   "cell_type": "markdown",
   "metadata": {},
   "source": [
    "Then we wanted to group the average salary by year. This is done for the analysis on salary growth."
   ]
  },
  {
   "cell_type": "code",
   "execution_count": 351,
   "metadata": {
    "collapsed": false
   },
   "outputs": [],
   "source": [
    "#This was done to see how much the average MLB salary has moved in the past few years\n",
    "salaries_by_year = salaries_cleaned.groupby(\"yearID\", as_index = False).mean()"
   ]
  },
  {
   "cell_type": "markdown",
   "metadata": {},
   "source": [
    "Now we want to look at salaries and All-Stars in the 2015 Season. To do this, we will subset the data using boolean indexing for each dataset. \n",
    "\n",
    "We use the notnull function and the count function to determine if there are the same number of rows listed in the dataset."
   ]
  },
  {
   "cell_type": "code",
   "execution_count": 352,
   "metadata": {
    "collapsed": false
   },
   "outputs": [
    {
     "name": "stdout",
     "output_type": "stream",
     "text": [
      "True\n"
     ]
    }
   ],
   "source": [
    "#take the salaries sheet and keep only 2015 salaries\n",
    "salaries_15 = salaries_cleaned[salaries_cleaned[\"yearID\"] == 2015]\n",
    "\n",
    "all_stars_15 = all_stars[all_stars[\"yearID\"] == 2015]\n",
    "print all_stars_15[\"playerID\"].notnull().sum() == all_stars_15[\"playerID\"].count()"
   ]
  },
  {
   "cell_type": "markdown",
   "metadata": {},
   "source": [
    "These functions look to count the number of players in each list to see if we are doing a 1:1 match. The first function \"count_of_players\" looks to count the number of players in a particular dataset. The second function \"count_unique_players\" looks to count the number of unique players in the dataset. \n",
    "\n",
    "This is done on only the All-Star players dataset and all others which are necessary. "
   ]
  },
  {
   "cell_type": "code",
   "execution_count": 353,
   "metadata": {
    "collapsed": false
   },
   "outputs": [],
   "source": [
    "#count_of_players takes in a Pandas Series and returns the number of unique players in this particular series\n",
    "def count_of_players(player_list, field_name):\n",
    "    return player_list[field_name].count()\n",
    "\n",
    "#count unique players takes a series that has already called unique on it\n",
    "#this function just checks the prior function\n",
    "def count_unique_players(player_list, field_name):\n",
    "    player_list[field_name].nunique()\n",
    "    return player_list[field_name].nunique()"
   ]
  },
  {
   "cell_type": "code",
   "execution_count": 354,
   "metadata": {
    "collapsed": false
   },
   "outputs": [
    {
     "name": "stdout",
     "output_type": "stream",
     "text": [
      "True\n"
     ]
    }
   ],
   "source": [
    "#check if playerID is unique in this subset\n",
    "print count_of_players(all_stars_15, \"playerID\") == count_unique_players(all_stars_15, \"playerID\")"
   ]
  },
  {
   "cell_type": "markdown",
   "metadata": {},
   "source": [
    "We then create the \"unique_players_with_salary\" dataset to get a list of unique players in the dataset who have salaries listed in the 2015 season. After this, the following function: \"count_unique_players\" and \"count_of_players\"  are called to detemrine the number of players in the players with salaries merged dataset."
   ]
  },
  {
   "cell_type": "code",
   "execution_count": 355,
   "metadata": {
    "collapsed": false
   },
   "outputs": [
    {
     "name": "stdout",
     "output_type": "stream",
     "text": [
      "True\n"
     ]
    }
   ],
   "source": [
    "#check if unique salary counts match up with the original list\n",
    "#salaries_15[\"playerID\"].unique()\n",
    "print count_unique_players(salaries_15, \"playerID\") == count_of_players(salaries_15, \"playerID\")"
   ]
  },
  {
   "cell_type": "markdown",
   "metadata": {},
   "source": [
    "After getting our counts to be correct in the 2015 salaries dataset, I merged the unique list of All-Star players in the 2015 season to the 2015 salaries. In order to do a comparison of salaries for non All-Star players and All-Star players, the salaries_15 dataset values are kept. \n",
    "\n",
    "After this, a boolean column is generated on the basis of whether a gameID for the All-Star game is present. If a player does have a gameID, then that player will have True listed under the column \"all_star\". Otherwise, this will be false.\n",
    "\n",
    "Use the boolean column, \"all_star\" to groupby to get the average salary of each group of players. The last line, that declares \"clean_comparison\" is used to only keep the all_star and salary columns to create a bar graph."
   ]
  },
  {
   "cell_type": "code",
   "execution_count": 356,
   "metadata": {
    "collapsed": false
   },
   "outputs": [],
   "source": [
    "#merge the All Star list onto the Salaries List\n",
    "all_player_salaries = all_stars_15.merge(salaries_15, on = \"playerID\", how = \"right\")\n",
    "\n",
    "#the notnull function is used to add a column to the merged data set\n",
    "#this will tell us if a player is an All Star or not\n",
    "all_player_salaries[\"all_star\"] = all_player_salaries[\"gameID\"].notnull()\n",
    "\n",
    "salary_comparison = all_player_salaries.groupby(\"all_star\", as_index = False).mean()\n",
    "clean_comparison = salary_comparison[[\"all_star\",\"salary\"]]"
   ]
  },
  {
   "cell_type": "markdown",
   "metadata": {},
   "source": [
    "This next cell is used to sum the number of years a player attended a college. Considering that every player in this dataset attended a college, a 1 is assigned for that particular player and year.\n",
    "\n",
    "After generating this column, the groupby function on the playerID is called and we sum all other fields. After this, only the playerID and number_of_years is kept."
   ]
  },
  {
   "cell_type": "code",
   "execution_count": 357,
   "metadata": {
    "collapsed": false
   },
   "outputs": [
    {
     "data": {
      "text/html": [
       "<div>\n",
       "<table border=\"1\" class=\"dataframe\">\n",
       "  <thead>\n",
       "    <tr style=\"text-align: right;\">\n",
       "      <th></th>\n",
       "      <th>playerID</th>\n",
       "      <th>number_of_years</th>\n",
       "    </tr>\n",
       "  </thead>\n",
       "  <tbody>\n",
       "    <tr>\n",
       "      <th>0</th>\n",
       "      <td>aardsda01</td>\n",
       "      <td>3</td>\n",
       "    </tr>\n",
       "    <tr>\n",
       "      <th>1</th>\n",
       "      <td>abadan01</td>\n",
       "      <td>2</td>\n",
       "    </tr>\n",
       "    <tr>\n",
       "      <th>2</th>\n",
       "      <td>abbeybe01</td>\n",
       "      <td>4</td>\n",
       "    </tr>\n",
       "    <tr>\n",
       "      <th>3</th>\n",
       "      <td>abbotje01</td>\n",
       "      <td>3</td>\n",
       "    </tr>\n",
       "    <tr>\n",
       "      <th>4</th>\n",
       "      <td>abbotji01</td>\n",
       "      <td>3</td>\n",
       "    </tr>\n",
       "  </tbody>\n",
       "</table>\n",
       "</div>"
      ],
      "text/plain": [
       "    playerID  number_of_years\n",
       "0  aardsda01                3\n",
       "1   abadan01                2\n",
       "2  abbeybe01                4\n",
       "3  abbotje01                3\n",
       "4  abbotji01                3"
      ]
     },
     "execution_count": 357,
     "metadata": {},
     "output_type": "execute_result"
    }
   ],
   "source": [
    "#create a variable called count in the DataFrame\n",
    "#this will be used to sum on in the groupby function in the player dataset\n",
    "college[\"number_of_years\"] = 1\n",
    "grouped_college = college.groupby(\"playerID\", as_index = False).sum()\n",
    "college_years = grouped_college[[\"playerID\",\"number_of_years\"]]\n",
    "college_years.head()"
   ]
  },
  {
   "cell_type": "markdown",
   "metadata": {},
   "source": [
    "First, we create a series with only the unique playerIDs that were All-Stars. We do this because it is possible to be an All-Star player multiple years. Then, we cast this as a dataframe to make the next merge easier.\n",
    "\n",
    "The unique list of all stars is then merged onto the college years dataframe we constructed in the last cell. This allows us to create a column for whether someone attended college or not, which is based on the number_of_years column. \n",
    "\n",
    "Just for curiosity, check the number of players in the dataset. We will want to do some division later to get the percentage of players that attended college, so we created the count column equal to 1 for all observations."
   ]
  },
  {
   "cell_type": "code",
   "execution_count": 367,
   "metadata": {
    "collapsed": false
   },
   "outputs": [
    {
     "data": {
      "text/html": [
       "<div>\n",
       "<table border=\"1\" class=\"dataframe\">\n",
       "  <thead>\n",
       "    <tr style=\"text-align: right;\">\n",
       "      <th></th>\n",
       "      <th>playerID</th>\n",
       "      <th>number_of_years</th>\n",
       "      <th>college</th>\n",
       "      <th>count</th>\n",
       "    </tr>\n",
       "  </thead>\n",
       "  <tbody>\n",
       "    <tr>\n",
       "      <th>0</th>\n",
       "      <td>gomezle01</td>\n",
       "      <td>NaN</td>\n",
       "      <td>False</td>\n",
       "      <td>1</td>\n",
       "    </tr>\n",
       "    <tr>\n",
       "      <th>1</th>\n",
       "      <td>ferreri01</td>\n",
       "      <td>3.0</td>\n",
       "      <td>True</td>\n",
       "      <td>1</td>\n",
       "    </tr>\n",
       "    <tr>\n",
       "      <th>2</th>\n",
       "      <td>gehrilo01</td>\n",
       "      <td>1.0</td>\n",
       "      <td>True</td>\n",
       "      <td>1</td>\n",
       "    </tr>\n",
       "    <tr>\n",
       "      <th>3</th>\n",
       "      <td>gehrich01</td>\n",
       "      <td>NaN</td>\n",
       "      <td>False</td>\n",
       "      <td>1</td>\n",
       "    </tr>\n",
       "    <tr>\n",
       "      <th>4</th>\n",
       "      <td>dykesji01</td>\n",
       "      <td>NaN</td>\n",
       "      <td>False</td>\n",
       "      <td>1</td>\n",
       "    </tr>\n",
       "  </tbody>\n",
       "</table>\n",
       "</div>"
      ],
      "text/plain": [
       "    playerID  number_of_years college  count\n",
       "0  gomezle01              NaN   False      1\n",
       "1  ferreri01              3.0    True      1\n",
       "2  gehrilo01              1.0    True      1\n",
       "3  gehrich01              NaN   False      1\n",
       "4  dykesji01              NaN   False      1"
      ]
     },
     "execution_count": 367,
     "metadata": {},
     "output_type": "execute_result"
    }
   ],
   "source": [
    "all_all_stars_unique = all_stars[\"playerID\"].unique()\n",
    "\n",
    "unique_all_stars_df = pd.DataFrame(all_all_stars_unique, columns = [\"playerID\"])\n",
    "\n",
    "all_stars_with_college = unique_all_stars_df.merge(college_years, on = \"playerID\", how = \"left\")\n",
    "all_stars_with_college[\"college\"] = all_stars_with_college[\"number_of_years\"].notnull()\n",
    "\n",
    "count_of_players(all_stars_with_college, \"playerID\")\n",
    "\n",
    "all_stars_with_college[\"count\"] = 1\n",
    "all_stars_with_college.head()"
   ]
  },
  {
   "cell_type": "markdown",
   "metadata": {},
   "source": [
    "## Salary Growth"
   ]
  },
  {
   "cell_type": "code",
   "execution_count": 374,
   "metadata": {
    "collapsed": false,
    "scrolled": false
   },
   "outputs": [
    {
     "data": {
      "text/plain": [
       "([<matplotlib.axis.YTick at 0x122a614d0>,\n",
       "  <matplotlib.axis.YTick at 0x122a61f90>,\n",
       "  <matplotlib.axis.YTick at 0x1249e0f50>,\n",
       "  <matplotlib.axis.YTick at 0x1266f8610>,\n",
       "  <matplotlib.axis.YTick at 0x1266f8d90>],\n",
       " <a list of 5 Text yticklabel objects>)"
      ]
     },
     "execution_count": 374,
     "metadata": {},
     "output_type": "execute_result"
    },
    {
     "data": {
      "image/png": "[encoded data removed]",
      "text/plain": [
       "<matplotlib.figure.Figure at 0x11c5b2290>"
      ]
     },
     "metadata": {},
     "output_type": "display_data"
    }
   ],
   "source": [
    "%matplotlib inline\n",
    "\n",
    "# this graph displays a line graph showing how much the average salary has increase\n",
    "# please note that this is the nominal wage and has not been adjusted for inflation\n",
    "plt.plot(salaries_by_year[\"yearID\"], salaries_by_year[\"salary\"], color = \"steelblue\")\n",
    "plt.xlabel(\"Year\")\n",
    "plt.ylabel(\"Salary (in Nominal Dollars)\")\n",
    "plt.title(\"Increase in Average MLB Salary from 1985 to 2015\")\n",
    "plt.yticks([1000000,2000000, 3000000, 4000000, 5000000],[\"$1 M\",\"$2 M\", \"$3 M\", \"$4 M\", \"$5 M\"] )"
   ]
  },
  {
   "cell_type": "markdown",
   "metadata": {},
   "source": [
    "The chart shows the progression of the annual salary for MLB players from 1985 to 2015. Interestingly, within this chart, it is possible to see where new collective bargaining agreements might have happened. With more data, when there were new collective bargaining agreements or lock-outs, we would be able to determine how this affected average salaries in those years."
   ]
  },
  {
   "cell_type": "markdown",
   "metadata": {},
   "source": [
    "## Differences in All Stars vs. The Rest"
   ]
  },
  {
   "cell_type": "markdown",
   "metadata": {},
   "source": [
    "In this section, we will seek to explain how much more an All Star made compared to an ordinary MLB player in the 2015 season."
   ]
  },
  {
   "cell_type": "code",
   "execution_count": 360,
   "metadata": {
    "collapsed": false
   },
   "outputs": [
    {
     "data": {
      "text/plain": [
       "<matplotlib.text.Text at 0x1248e4110>"
      ]
     },
     "execution_count": 360,
     "metadata": {},
     "output_type": "execute_result"
    },
    {
     "data": {
      "image/png": "[encoded data removed]",
      "text/plain": [
       "<matplotlib.figure.Figure at 0x126da3810>"
      ]
     },
     "metadata": {},
     "output_type": "display_data"
    }
   ],
   "source": [
    "plt.bar(salary_comparison[\"all_star\"], salary_comparison[\"salary\"], color = \"steelblue\")\n",
    "plt.xticks([0.4,1.4],[\"Non All-Star\", \"All-Star\"])\n",
    "plt.yticks([2000000,4000000,6000000,8000000],[\"$2 M\",\"$4 M\",\"$6 M\",\"$8 M\"])\n",
    "plt.title(\"All-Star vs Non All-Star Salaries for the 2015 Season\")"
   ]
  },
  {
   "cell_type": "markdown",
   "metadata": {},
   "source": [
    "The average All-Star in the 2015 season made twice as much as the non All-Star player. Needless to say, this is not an alarming result as All-Star players must have some attribute about them that deserves a higher salary."
   ]
  },
  {
   "cell_type": "markdown",
   "metadata": {},
   "source": [
    "## Going to College\n",
    "This next analysis seeks to understand the difference in college-going rates for All-Star players versus non All-Star players. While this analysis is rather elementary, we do want to see if going to college matters to become an All-Star player. We also examine how many years a player played in college to see if there is a relationship between years played in college and being an All-Star."
   ]
  },
  {
   "cell_type": "code",
   "execution_count": 369,
   "metadata": {
    "collapsed": false
   },
   "outputs": [
    {
     "name": "stdout",
     "output_type": "stream",
     "text": [
      "36%\n"
     ]
    }
   ],
   "source": [
    "college_goers = all_stars_with_college[\"college\"].sum()\n",
    "total = all_stars_with_college[\"count\"].sum()\n",
    "\n",
    "percent_of_all_stars_college = college_goers / total\n",
    "print \"{0:.0f}%\".format(percent_of_all_stars_college * 100)"
   ]
  },
  {
   "cell_type": "markdown",
   "metadata": {},
   "source": [
    "From this data, we can see that about 36 percent of All-Star MLB players attended a college. Please keep in mind this does not mean 64 percent of the All-Stars did not go to a post-secondary institution. There are scenarios in which players come from another country and a junior college not listed in the college dataset.\n",
    "\n",
    "One thing that I wanted to know when doing this analysis was how long an All-Star attended a college, if they went to one at all."
   ]
  },
  {
   "cell_type": "code",
   "execution_count": 373,
   "metadata": {
    "collapsed": false
   },
   "outputs": [
    {
     "name": "stdout",
     "output_type": "stream",
     "text": [
      "2.52614896989\n"
     ]
    }
   ],
   "source": [
    "print all_stars_college_only[\"number_of_years\"].mean()"
   ]
  },
  {
   "cell_type": "markdown",
   "metadata": {},
   "source": [
    "From exploring the number of years attended, we can see that the average All-Star, who attended a college, attended for about 2.5 years. "
   ]
  },
  {
   "cell_type": "markdown",
   "metadata": {},
   "source": [
    "## Conclusion"
   ]
  },
  {
   "cell_type": "markdown",
   "metadata": {},
   "source": [
    "None of these findings are final and do need to be investigated further. However, the initial findings show interesting behavior about salaries, how salaries compare among All-Star and non All-Star MLB players and even differences in college going. To conclude these results more final, it would be useful to check if they are statistically different from the mean. These particular analyses are quite limited. While we have explored the changes in salary. These are not adjusted for inflation to see the real differences in wages. \n",
    "\n",
    "The analysis of All-Star MLB players is limited in its scope to just looking at salary differences and whether someone went to college. In further analysis, it will be useful to determine what particular statistics by position create these differences. This could also be used to explain difference in salaries. In the future, I would like to conduct regression analysis based on individual position statistics to determine salaries. \n",
    "\n",
    "This analysis has been a really good first introduction into how to use Pandas and NumPy to analyze data in Python. Thank you Udacity."
   ]
  }
 ],
 "metadata": {
  "anaconda-cloud": {},
  "kernelspec": {
   "display_name": "Python [conda env:data_analysis]",
   "language": "python",
   "name": "conda-env-data_analysis-py"
  },
  "language_info": {
   "codemirror_mode": {
    "name": "ipython",
    "version": 2
   },
   "file_extension": ".py",
   "mimetype": "text/x-python",
   "name": "python",
   "nbconvert_exporter": "python",
   "pygments_lexer": "ipython2",
   "version": "2.7.13"
  }
 },
 "nbformat": 4,
 "nbformat_minor": 1
}
